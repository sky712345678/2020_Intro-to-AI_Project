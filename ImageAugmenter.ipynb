{
  "nbformat": 4,
  "nbformat_minor": 0,
  "metadata": {
    "colab": {
      "name": "ImageAugmenter.ipynb",
      "provenance": [],
      "collapsed_sections": [],
      "authorship_tag": "ABX9TyOkdPiaaTGAQWSbzqbhiMcA",
      "include_colab_link": true
    },
    "kernelspec": {
      "name": "python3",
      "display_name": "Python 3"
    }
  },
  "cells": [
    {
      "cell_type": "markdown",
      "metadata": {
        "id": "view-in-github",
        "colab_type": "text"
      },
      "source": [
        "<a href=\"https://colab.research.google.com/github/sky712345678/2020_Intro-to-AI_Project/blob/main/ImageAugmenter.ipynb\" target=\"_parent\"><img src=\"https://colab.research.google.com/assets/colab-badge.svg\" alt=\"Open In Colab\"/></a>"
      ]
    },
    {
      "cell_type": "code",
      "metadata": {
        "id": "xwRkTbVGSSfX"
      },
      "source": [
        "from google.colab import drive\n",
        "drive.mount('/content/drive')"
      ],
      "execution_count": null,
      "outputs": []
    },
    {
      "cell_type": "code",
      "metadata": {
        "id": "y_Mb98v9ZR4D"
      },
      "source": [
        "!rm -r drive/MyDrive/AIIntro/[processed]dream_picture/20200610-20200620-camera-3/tuning_photos/LinearContrast_1p1_Add_3/"
      ],
      "execution_count": null,
      "outputs": []
    },
    {
      "cell_type": "code",
      "metadata": {
        "id": "FDc65fshiWf_"
      },
      "source": [
        "!mkdir drive/MyDrive/AIIntro/[processed]dream_picture/20200610-20200620-camera-3/tuning_photos/LinearContrast_1p1_Add_3/"
      ],
      "execution_count": null,
      "outputs": []
    },
    {
      "cell_type": "code",
      "metadata": {
        "id": "nNP8p-7SFsgX"
      },
      "source": [
        "# TRY TO TUNE THE SATURATION, BRIGHTNESS AND SATURATION\n",
        "import imageio\n",
        "import imgaug as ia\n",
        "import os\n",
        "from imgaug import augmenters as iaa\n",
        " \n",
        "# please modify the variables below to the directory you store the photos\n",
        "imageSourceDirectory = os.path.abspath('.') + '/drive/MyDrive/AIIntro/[processed]dream_picture/20200610-20200620-camera-3'\n",
        "imageDestinationDirectory = os.path.abspath('.') + '/drive/MyDrive/AIIntro/[processed]dream_picture/20200610-20200620-camera-3/tuning_photos/LinearContrast_1p1_Add_3'\n",
        " \n",
        "# please refer to https://github.com/aleju/imgaug\n",
        "seq = iaa.Sequential([iaa.LinearContrast(alpha=1.1), iaa.Add(3)])\n",
        "fileExtension = '.jpg'\n",
        " \n",
        "imageAddresses = []\n",
        "totalImageCount = 0\n",
        "finishCount = 0\n",
        "for f in os.listdir(imageSourceDirectory):\n",
        "    if (f.__contains__(fileExtension)):\n",
        "        imageAddresses.append(imageSourceDirectory + '/' + f)\n",
        "        totalImageCount += 1\n",
        " \n",
        "print('start augmentation.')\n",
        "for address in imageAddresses:\n",
        "    image = imageio.imread(address)\n",
        "    augmentedImage = seq(image=image)\n",
        "    imageio.imsave(str(address.replace(imageSourceDirectory, imageDestinationDirectory))\n",
        "            ,augmentedImage)\n",
        "    finishCount += 1\n",
        "    print(str(finishCount) + '/' + str(totalImageCount) + ', ' + address)\n",
        "print('Augmentation finished.')"
      ],
      "execution_count": null,
      "outputs": []
    }
  ]
}