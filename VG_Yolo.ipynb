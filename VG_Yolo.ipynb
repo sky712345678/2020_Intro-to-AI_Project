{
  "nbformat": 4,
  "nbformat_minor": 0,
  "metadata": {
    "colab": {
      "name": "VG_Yolo.ipynb",
      "provenance": [],
      "collapsed_sections": [],
      "toc_visible": true,
      "include_colab_link": true
    },
    "kernelspec": {
      "name": "python3",
      "display_name": "Python 3"
    },
    "accelerator": "GPU"
  },
  "cells": [
    {
      "cell_type": "markdown",
      "metadata": {
        "id": "view-in-github",
        "colab_type": "text"
      },
      "source": [
        "<a href=\"https://colab.research.google.com/github/sky712345678/2020_Intro-to-AI_Project/blob/main/VG_Yolo.ipynb\" target=\"_parent\"><img src=\"https://colab.research.google.com/assets/colab-badge.svg\" alt=\"Open In Colab\"/></a>"
      ]
    },
    {
      "cell_type": "markdown",
      "metadata": {
        "id": "o8Sp-8bD1uZD"
      },
      "source": [
        "# Convenient functions for YOLO v4 based on AlexeyAB Darknet Yolo\n",
        "\n",
        "Detail: [darknet.gong.im](darknet.gong.im)\n",
        "\n",
        "In case any problems, please feel free to let me know.\n",
        "\n",
        "Email: vincent.gong7[at]gmail.com"
      ]
    },
    {
      "cell_type": "markdown",
      "metadata": {
        "id": "r7YX6MULCdfv"
      },
      "source": [
        "This notebook is modified by sky712345678."
      ]
    },
    {
      "cell_type": "markdown",
      "metadata": {
        "id": "27DhJqn22Auk"
      },
      "source": [
        "### Steps:\n",
        "0.   Check the GPU and mount Google Drive\n",
        "1.   Clone the repository\n",
        "2.   Make\n",
        "3.   Backup the \"output\" folder\n",
        "4.   Convert the photos to test to jpg format\n",
        "5.   Run the command (detection)\n",
        "6.   Copy the detection results to your Google Drive\n",
        "7.   Clean the detection results of last execution\n",
        "---\n",
        "\n",
        "Let's go step by step."
      ]
    },
    {
      "cell_type": "markdown",
      "metadata": {
        "id": "24mcYAAbA-r8"
      },
      "source": [
        "**0.1 Check the GPU you're using in this session**"
      ]
    },
    {
      "cell_type": "code",
      "metadata": {
        "id": "XvA2Covv072g"
      },
      "source": [
        "!nvidia-smi"
      ],
      "execution_count": null,
      "outputs": []
    },
    {
      "cell_type": "markdown",
      "metadata": {
        "id": "0AOvfZS2BKHh"
      },
      "source": [
        "**0.2 Mount Google Drive**"
      ]
    },
    {
      "cell_type": "code",
      "metadata": {
        "id": "xwRkTbVGSSfX"
      },
      "source": [
        "from google.colab import drive\n",
        "drive.mount('/content/drive')"
      ],
      "execution_count": null,
      "outputs": []
    },
    {
      "cell_type": "markdown",
      "metadata": {
        "id": "ndaTcoMh2lgc"
      },
      "source": [
        "**1. The first step is to clone the repository.**\n",
        "\n",
        "The link is: https://github.com/vincentgong7/VG_AlexeyAB_darknet.git"
      ]
    },
    {
      "cell_type": "code",
      "metadata": {
        "id": "NR_Zb3sfNqhe"
      },
      "source": [
        "!git clone https://github.com/vincentgong7/VG_AlexeyAB_darknet.git"
      ],
      "execution_count": null,
      "outputs": []
    },
    {
      "cell_type": "markdown",
      "metadata": {
        "id": "MIFUzwxS3rRO"
      },
      "source": [
        "**2. \"make\"**"
      ]
    },
    {
      "cell_type": "code",
      "metadata": {
        "id": "RdWpfIPB_-hV"
      },
      "source": [
        "cd VG_AlexeyAB_darknet/"
      ],
      "execution_count": null,
      "outputs": []
    },
    {
      "cell_type": "code",
      "metadata": {
        "id": "8mpdh0y9Awm4"
      },
      "source": [
        "!rm Makefile"
      ],
      "execution_count": null,
      "outputs": []
    },
    {
      "cell_type": "markdown",
      "metadata": {
        "id": "bWU3Gmyb_F-G"
      },
      "source": [
        "Run this block if there are Tensor Cores on GPU"
      ]
    },
    {
      "cell_type": "code",
      "metadata": {
        "id": "JDkUh9cTbbwm"
      },
      "source": [
        "import gdown\n",
        "url = 'https://drive.google.com/uc?export=download&id=1yhU1g6sxIvmlu6pPUGR-vf8HUuFH4xpq'\n",
        "output = 'Makefile'\n",
        "gdown.download(url, output, quiet=False)"
      ],
      "execution_count": null,
      "outputs": []
    },
    {
      "cell_type": "markdown",
      "metadata": {
        "id": "1wV-tusf_K8c"
      },
      "source": [
        "Run this block if there aren't Tensor Cores on GPU"
      ]
    },
    {
      "cell_type": "code",
      "metadata": {
        "id": "u7IN9EIAbk4R"
      },
      "source": [
        "import gdown\n",
        "url = 'https://drive.google.com/uc?export=download&id=1Rt92T9-5QnUwQdbl8U0lK5MpVcHdWvPS'\n",
        "output = 'Makefile'\n",
        "gdown.download(url, output, quiet=False)"
      ],
      "execution_count": null,
      "outputs": []
    },
    {
      "cell_type": "code",
      "metadata": {
        "id": "mV1suCLHOvHS"
      },
      "source": [
        "!make"
      ],
      "execution_count": null,
      "outputs": []
    },
    {
      "cell_type": "markdown",
      "metadata": {
        "id": "nxLzQd96_HQR"
      },
      "source": [
        "**3. Back up the \"output\" folder**"
      ]
    },
    {
      "cell_type": "code",
      "metadata": {
        "id": "9BJ4plB5-6ZW"
      },
      "source": [
        "!cp -r output/ output_backup/"
      ],
      "execution_count": null,
      "outputs": []
    },
    {
      "cell_type": "markdown",
      "metadata": {
        "id": "BEAM3STNggF3"
      },
      "source": [
        "**4. Convert the photos to run detection to jpg format**"
      ]
    },
    {
      "cell_type": "markdown",
      "metadata": {
        "id": "Vjsbv2Omg2qY"
      },
      "source": [
        "***You only need to run this command if all the files are in png format.\n",
        "This version of Darknet can run detection with png files, but it can't output pictures with bounding boxes.***"
      ]
    },
    {
      "cell_type": "code",
      "metadata": {
        "id": "X4AwavH80fdI"
      },
      "source": [
        "!cd drive/MyDrive/AIIntro/[processed]dream_picture/20200610-20200620-camera-3/png/ # modify this command to the target directory\n",
        "!apt-get install imagemagick\n",
        "!mogrify -format jpg *.png"
      ],
      "execution_count": null,
      "outputs": []
    },
    {
      "cell_type": "code",
      "metadata": {
        "id": "8zIK_ImrrXow"
      },
      "source": [
        "!mogrify -format jpg *.png"
      ],
      "execution_count": null,
      "outputs": []
    },
    {
      "cell_type": "markdown",
      "metadata": {
        "id": "nUg-UHGb33MP"
      },
      "source": [
        "**5. Run the sample command**\n",
        "\n",
        "After that, you can check the exported files in folder: *VG_AlexeyAB_darknet/output/*"
      ]
    },
    {
      "cell_type": "markdown",
      "metadata": {
        "id": "sYv4EoKHdyyW"
      },
      "source": [
        "Original:"
      ]
    },
    {
      "cell_type": "code",
      "metadata": {
        "id": "YW8Um-_5RM8R"
      },
      "source": [
        "!./darknet detector batch cfg/coco.data cfg/yolov4.cfg weights/yolov4.weights io_folder sample_imgs/ output/ -out output/result.json -ext_output > output/result.txt"
      ],
      "execution_count": null,
      "outputs": []
    },
    {
      "cell_type": "markdown",
      "metadata": {
        "id": "NqF3p6Lnd0OH"
      },
      "source": [
        "YOLOv4 with YOLOv4 for MS COCO pretrained weights:"
      ]
    },
    {
      "cell_type": "code",
      "metadata": {
        "id": "13c8DJGKAJZj"
      },
      "source": [
        "cd weights/"
      ],
      "execution_count": null,
      "outputs": []
    },
    {
      "cell_type": "code",
      "metadata": {
        "id": "mdUbrKDD-4Ss"
      },
      "source": [
        "!7z x yolov4.weights.7z.001"
      ],
      "execution_count": null,
      "outputs": []
    },
    {
      "cell_type": "code",
      "metadata": {
        "id": "YFk3fQoAAJyZ"
      },
      "source": [
        "cd .."
      ],
      "execution_count": null,
      "outputs": []
    },
    {
      "cell_type": "code",
      "metadata": {
        "id": "u-Nc4HDBSQin"
      },
      "source": [
        "!./darknet detector batch cfg/coco.data cfg/yolov4.cfg weights/yolov4.weights io_folder ../drive/MyDrive/AIIntro/[processed]dream_picture/20200610-20200620-camera-3/ output/ -out output/result.json -ext_output > output/result.txt -dont_show"
      ],
      "execution_count": null,
      "outputs": []
    },
    {
      "cell_type": "markdown",
      "metadata": {
        "id": "qOHPiGTnDGqq"
      },
      "source": [
        "YOLOv4 with yolov4x-mish for MS COCO pretrained weights:"
      ]
    },
    {
      "cell_type": "code",
      "metadata": {
        "id": "oYD6rywqDKgK"
      },
      "source": [
        "!wget https://github.com/AlexeyAB/darknet/releases/download/darknet_yolo_v4_pre/yolov4x-mish.weights"
      ],
      "execution_count": null,
      "outputs": []
    },
    {
      "cell_type": "code",
      "metadata": {
        "id": "oCylTG9YDUJE"
      },
      "source": [
        "!wget https://raw.githubusercontent.com/AlexeyAB/darknet/master/cfg/yolov4x-mish.cfg"
      ],
      "execution_count": null,
      "outputs": []
    },
    {
      "cell_type": "code",
      "metadata": {
        "id": "Xx5rdN-EDQtV"
      },
      "source": [
        "!./darknet detector batch cfg/coco.data yolov4x-mish.cfg yolov4x-mish.weights io_folder ../drive/MyDrive/AIIntro/[processed]dream_picture/20200610-20200620-camera-3/ output/ -out output/result.json -ext_output > output/result.txt -dont_show"
      ],
      "execution_count": null,
      "outputs": []
    },
    {
      "cell_type": "markdown",
      "metadata": {
        "id": "Apr_BO2f8att"
      },
      "source": [
        "YOLOv3 with OpenImages pretrained weights:"
      ]
    },
    {
      "cell_type": "code",
      "metadata": {
        "id": "3assHIMRd5i4"
      },
      "source": [
        "import gdown\n",
        "url = 'https://drive.google.com/uc?export=download&id=1Gi7ZfQmH-U_XBYkQy8TDvFrjtwiLcTbq'\n",
        "output = 'yolov3-openimages.weights'\n",
        "gdown.download(url, output, quiet=False)"
      ],
      "execution_count": null,
      "outputs": []
    },
    {
      "cell_type": "code",
      "metadata": {
        "id": "1CU1Vn20b-6d"
      },
      "source": [
        "!./darknet detector batch cfg/coco.data cfg/yolov3-openimages.cfg yolov3-openimages.weights io_folder ../drive/MyDrive/AIIntro/[processed]dream_picture/20200610-20200620-camera-3/ output/ -out output/result.json -ext_output > output/result.txt -dont_show"
      ],
      "execution_count": null,
      "outputs": []
    },
    {
      "cell_type": "markdown",
      "metadata": {
        "id": "Y8fUnGm6g9_u"
      },
      "source": [
        "YOLOv3 with csresnext50-panet-spp-original-optimal for MS COCO pretrained weights:"
      ]
    },
    {
      "cell_type": "code",
      "metadata": {
        "id": "79IpEf71-dXz"
      },
      "source": [
        "import gdown\n",
        "url = 'https://drive.google.com/uc?export=download&id=1Rt92T9-5QnUwQdbl8U0lK5MpVcHdWvPS'\n",
        "output = 'csresnext50-panet-spp-original-optimal_final.weights'\n",
        "gdown.download(url, output, quiet=False) "
      ],
      "execution_count": null,
      "outputs": []
    },
    {
      "cell_type": "code",
      "metadata": {
        "id": "KOIcY1Z37JdW"
      },
      "source": [
        "!./darknet detector batch cfg/coco.data cfg/csresnext50-panet-spp-original-optimal.cfg csresnext50-panet-spp-original-optimal_final.weights io_folder ../drive/MyDrive/AIIntro/[processed]dream_picture/20200610-20200620-camera-3/ output/ -out output/result.json -ext_output > output/result.txt -dont_show"
      ],
      "execution_count": null,
      "outputs": []
    },
    {
      "cell_type": "markdown",
      "metadata": {
        "id": "ay7qVe9ahLWV"
      },
      "source": [
        "**6. Copy the detection results to your Google Drive**"
      ]
    },
    {
      "cell_type": "markdown",
      "metadata": {
        "id": "Zb6F-OROhVjN"
      },
      "source": [
        "Modify this command to the director you plan to store the results"
      ]
    },
    {
      "cell_type": "code",
      "metadata": {
        "id": "QJRtWIt73360"
      },
      "source": [
        "!mkdir ../drive/MyDrive/AIIntro/[processed]dream_picture/20200610-20200620-camera-3/output_YOLOv4_weights_thresh_default/\n",
        "!cp -r output ../drive/MyDrive/AIIntro/[processed]dream_picture/20200610-20200620-camera-3/output_YOLOv4_weights_thresh_default"
      ],
      "execution_count": null,
      "outputs": []
    },
    {
      "cell_type": "markdown",
      "metadata": {
        "id": "0XQAUEZYhegl"
      },
      "source": [
        "**7. Clean the detection results of last execution**"
      ]
    },
    {
      "cell_type": "code",
      "metadata": {
        "id": "81ZX8HI6Ycqn"
      },
      "source": [
        "!rm -r output/\n",
        "!cp -r output_backup/ output/"
      ],
      "execution_count": null,
      "outputs": []
    },
    {
      "cell_type": "markdown",
      "metadata": {
        "id": "NBgsqjS_hnpC"
      },
      "source": [
        "**Miscellaneous**"
      ]
    },
    {
      "cell_type": "code",
      "metadata": {
        "id": "Gw0xn1rt0J4e"
      },
      "source": [
        "!wget http://pjreddie.com/media/files/yolov3-tiny.weights"
      ],
      "execution_count": null,
      "outputs": []
    },
    {
      "cell_type": "code",
      "metadata": {
        "id": "eQpNM1EeIQeM"
      },
      "source": [
        "cd VG_AlexeyAB_darknet/"
      ],
      "execution_count": null,
      "outputs": []
    },
    {
      "cell_type": "markdown",
      "metadata": {
        "id": "LpKOTtPchz9-"
      },
      "source": [
        "Testing the effect of detection using tuned photos:"
      ]
    },
    {
      "cell_type": "code",
      "metadata": {
        "id": "nNP8p-7SFsgX"
      },
      "source": [
        "import imageio\n",
        "import imgaug as ia\n",
        "import os\n",
        "from imgaug import augmenters as iaa\n",
        "\n",
        "# please modify the variables below to the directory you store the photos\n",
        "imageSourceDirectory = os.path.abspath('.') + '/drive/MyDrive/AIIntro/[processed]dream_picture/20200610-20200620-camera-3'\n",
        "imageDestinationDirectory = os.path.abspath('.') + '/drive/MyDrive/AIIntro/[processed]dream_picture/20200610-20200620-camera-3/tunning_photos/Rot270'\n",
        "\n",
        "# please refer to https://github.com/aleju/imgaug\n",
        "seq = iaa.Sequential([iaa.Rot90(3, keep_size=False)])\n",
        "fileExtension = '.jpg'\n",
        "\n",
        "imageAddresses = []\n",
        "totalImageCount = 0\n",
        "finishCount = 0\n",
        "for f in os.listdir(imageSourceDirectory):\n",
        "    if (f.__contains__(fileExtension)):\n",
        "        imageAddresses.append(imageSourceDirectory + '/' + f)\n",
        "        totalImageCount += 1\n",
        "\n",
        "print('start augmentation.')\n",
        "for address in imageAddresses:\n",
        "    image = imageio.imread(address)\n",
        "    augmentedImage = seq(image=image)\n",
        "    imageio.imsave(str(address.replace(imageSourceDirectory, imageDestinationDirectory))\n",
        "            ,augmentedImage)\n",
        "    finishCount += 1\n",
        "    print(str(finishCount) + '/' + str(totalImageCount))\n",
        "print('Augmentation finished.')"
      ],
      "execution_count": null,
      "outputs": []
    },
    {
      "cell_type": "markdown",
      "metadata": {
        "id": "gWuV1gD7iMl9"
      },
      "source": [
        "Upload function:"
      ]
    },
    {
      "cell_type": "code",
      "metadata": {
        "id": "xPOKP28e78qy"
      },
      "source": [
        "from google.colab import files\n",
        "uploaded = files.upload()"
      ],
      "execution_count": null,
      "outputs": []
    },
    {
      "cell_type": "markdown",
      "metadata": {
        "id": "SllJ-iot8rFw"
      },
      "source": [
        "Function to get the number of files in the directory:"
      ]
    },
    {
      "cell_type": "code",
      "metadata": {
        "id": "Xkl42DBUnR7W"
      },
      "source": [
        "import os\n",
        "number = 0\n",
        "for f in os.listdir(os.path.abspath('.')):\n",
        "  if (f.__contains__('.jpg')):\n",
        "    number += 1\n",
        "\n",
        "print(number)"
      ],
      "execution_count": null,
      "outputs": []
    }
  ]
}