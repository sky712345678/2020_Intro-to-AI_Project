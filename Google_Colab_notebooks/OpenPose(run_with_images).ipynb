{
  "nbformat": 4,
  "nbformat_minor": 0,
  "metadata": {
    "colab": {
      "name": "OpenPose(run_with_images).ipynb",
      "provenance": [],
      "collapsed_sections": [],
      "toc_visible": true
    },
    "kernelspec": {
      "name": "python3",
      "display_name": "Python 3"
    }
  },
  "cells": [
    {
      "cell_type": "code",
      "metadata": {
        "id": "91q3XzoMPiNo"
      },
      "source": [
        "!nvidia-smi"
      ],
      "execution_count": null,
      "outputs": []
    },
    {
      "cell_type": "code",
      "metadata": {
        "id": "9YU7lQV-PtJ-"
      },
      "source": [
        "!nvcc --version"
      ],
      "execution_count": null,
      "outputs": []
    },
    {
      "cell_type": "markdown",
      "metadata": {
        "id": "X38L6tanrnrB"
      },
      "source": [
        "# Pose Detection with OpenPose\n",
        "\n",
        "This notebook uses an open source project [CMU-Perceptual-Computing-Lab/openpose](https://github.com/CMU-Perceptual-Computing-Lab/openpose.git) to detect/track multi person poses on a video from your Google Drive\n",
        "\n",
        "@dinatih update base on https://colab.research.google.com/github/tugstugi/dl-colab-notebooks/blob/master/notebooks/OpenPose.ipynb"
      ]
    },
    {
      "cell_type": "markdown",
      "metadata": {
        "id": "4zDZCoNGT-CA"
      },
      "source": [
        "## Mount Google Drive"
      ]
    },
    {
      "cell_type": "code",
      "metadata": {
        "id": "0fGVMvI0WNx2"
      },
      "source": [
        "from google.colab import drive\n",
        "drive.mount('/content/drive')"
      ],
      "execution_count": null,
      "outputs": []
    },
    {
      "cell_type": "markdown",
      "metadata": {
        "id": "CUreojffSlnJ"
      },
      "source": [
        "## Install OpenPose on Google Colab \n"
      ]
    },
    {
      "cell_type": "code",
      "metadata": {
        "id": "wWwwhKywP16C"
      },
      "source": [
        "!wget https://cmake.org/files/v3.13/cmake-3.13.0-Linux-x86_64.tar.gz\r\n",
        "!tar xfz cmake-3.13.0-Linux-x86_64.tar.gz --strip-components=1 -C /usr/local"
      ],
      "execution_count": null,
      "outputs": []
    },
    {
      "cell_type": "code",
      "metadata": {
        "id": "XbCNPuKbQJKr"
      },
      "source": [
        "!git clone https://github.com/CMU-Perceptual-Computing-Lab/openpose.git"
      ],
      "execution_count": null,
      "outputs": []
    },
    {
      "cell_type": "code",
      "metadata": {
        "id": "DhOReW-yQNzq"
      },
      "source": [
        "!sed -i 's/execute_process(COMMAND git checkout master WORKING_DIRECTORY ${CMAKE_SOURCE_DIR}\\/3rdparty\\/caffe)/execute_process(COMMAND git checkout f019d0dfe86f49d1140961f8c7dec22130c83154 WORKING_DIRECTORY ${CMAKE_SOURCE_DIR}\\/3rdparty\\/caffe)/g' openpose/CMakeLists.txt"
      ],
      "execution_count": null,
      "outputs": []
    },
    {
      "cell_type": "code",
      "metadata": {
        "id": "9wd9ZTdzQRNY"
      },
      "source": [
        "!apt-get install -y libatlas-base-dev libprotobuf-dev libleveldb-dev libsnappy-dev libhdf5-serial-dev protobuf-compiler libgflags-dev libgoogle-glog-dev liblmdb-dev opencl-headers ocl-icd-opencl-dev libviennacl-dev"
      ],
      "execution_count": null,
      "outputs": []
    },
    {
      "cell_type": "code",
      "metadata": {
        "id": "4Ipeu9NsQoda"
      },
      "source": [
        "!cd openpose && mkdir build && cd build && cmake .. && make -j`nproc`"
      ],
      "execution_count": null,
      "outputs": []
    },
    {
      "cell_type": "markdown",
      "metadata": {
        "id": "kL6_eTNR0HFN"
      },
      "source": [
        "## Run OpenPose"
      ]
    },
    {
      "cell_type": "code",
      "metadata": {
        "id": "suw1iVIvUj8j"
      },
      "source": [
        "cd openpose"
      ],
      "execution_count": null,
      "outputs": []
    },
    {
      "cell_type": "code",
      "metadata": {
        "id": "iIgAw2UhUo03"
      },
      "source": [
        "!./build/examples/openpose/openpose.bin --image_dir ../drive/MyDrive/AIIntro/[processed]dream_picture/20200610-20200620-camera-3/tuning_photos/Sharpen_0p3_Add_5/ --write_images ../drive/MyDrive/AIIntro/[processed]dream_picture/20200610-20200620-camera-3/tuning_photos/Sharpen_0p3_Add_5/openpose_test/original_result/ --display 0"
      ],
      "execution_count": null,
      "outputs": []
    },
    {
      "cell_type": "markdown",
      "metadata": {
        "id": "_AqlRrJluha2"
      },
      "source": [
        "##Miscellaneous"
      ]
    },
    {
      "cell_type": "code",
      "metadata": {
        "id": "IVnADxzX0KED"
      },
      "source": [
        "!cd openpose && rm -rf build || true && mkdir build && cd build && cmake .. && make -j`nproc`"
      ],
      "execution_count": null,
      "outputs": []
    },
    {
      "cell_type": "code",
      "metadata": {
        "id": "FOdkDhb6ga6N"
      },
      "source": [
        "##### this can be omitted ##### \n",
        "import os\n",
        "from os.path import exists, join, basename, splitext\n",
        "\n",
        "git_repo_url = 'https://github.com/CMU-Perceptual-Computing-Lab/openpose.git'\n",
        "# git_repo_url = 'https://github.com/dinatih/openpose.git'\n",
        "project_name = splitext(basename(git_repo_url))[0]\n",
        "\n",
        "if 1 or not exists(project_name):\n",
        "  !rm -rf openpose\n",
        "  # see: https://github.com/CMU-Perceptual-Computing-Lab/openpose/issues/949\n",
        "\n",
        "  print(\"install new CMake becaue of CUDA10\")\n",
        "  if not exists('cmake-3.13.0-Linux-x86_64.tar.gz'):\n",
        "    !wget -q https://cmake.org/files/v3.13/cmake-3.13.0-Linux-x86_64.tar.gz\n",
        "  !tar xfz cmake-3.13.0-Linux-x86_64.tar.gz --strip-components=1 -C /usr/local\n",
        "\n",
        "  print(\"clone openpose\")\n",
        "  !git clone -q --depth 1 $git_repo_url\n",
        "  print(\"CMakelist.txt's caffe fix\")\n",
        "  !sed -i 's/execute_process(COMMAND git checkout master WORKING_DIRECTORY ${CMAKE_SOURCE_DIR}\\/3rdparty\\/caffe)/execute_process(COMMAND git checkout f019d0dfe86f49d1140961f8c7dec22130c83154 WORKING_DIRECTORY ${CMAKE_SOURCE_DIR}\\/3rdparty\\/caffe)/g' openpose/CMakeLists.txt\n",
        "  print(\"install system dependencies\")\n",
        "  !apt-get -qq install -y libatlas-base-dev libprotobuf-dev libleveldb-dev libsnappy-dev libhdf5-serial-dev protobuf-compiler libgflags-dev libgoogle-glog-dev liblmdb-dev opencl-headers ocl-icd-opencl-dev libviennacl-dev\n",
        "  print(\"build openpose\")\n",
        "  !cd openpose && rm -rf build || true && mkdir build && cd build && cmake .. && make -j`nproc`\n",
        "\n",
        "\n",
        "# import os\n",
        "# from os.path import exists, join, basename, splitext\n",
        "# colab_video_path = '/content/drive/My Drive/gims-nabila.mp4'\n",
        "# colab_openpose_video_path = colab_video_path.replace('.mp4', '') + '-openpose.mp4'\n",
        "\n",
        "# !cd openpose && ./build/examples/openpose/openpose.bin --number_people_max 12 --video '{colab_video_path}' --display 0 --write_video_with_audio --write_video '{colab_openpose_video_path}' # --net_resolution \"-1x736\" --scale_number 4 --scale_gap 0.25\n",
        "\n",
        "# import os\n",
        "# from os.path import exists, join, basename, splitext\n",
        "\n",
        "# folder_path = '/content/drive/My Drive/foot/'\n",
        "# files = os.listdir(folder_path)\n",
        "# files.reverse() \n",
        "# for filename in files:\n",
        "#   if filename.endswith('.mp4') and not filename.endswith('-openpose.mp4'):\n",
        "#     print(filename)\n",
        "#     colab_video_path = folder_path + filename\n",
        "#     print(colab_video_path)\n",
        "#     colab_openpose_video_path = colab_video_path.replace('.mp4', '') + '-openpose.mp4'\n",
        "#     print(colab_openpose_video_path)\n",
        "#     if not exists(colab_openpose_video_path):\n",
        "#       !cd openpose && ./build/examples/openpose/openpose.bin --hand --face --number_people_max 12 --video '{colab_video_path}' --display 0 --write_video_with_audio --write_video '{colab_openpose_video_path}' # --net_resolution \"-1x736\" --scale_number 4 --scale_gap 0.25\n",
        "\n"
      ],
      "execution_count": null,
      "outputs": []
    },
    {
      "cell_type": "code",
      "metadata": {
        "id": "IqBROcGCPqEy"
      },
      "source": [
        "import os\n",
        "from os.path import exists, join, basename, splitext\n",
        "\n",
        "folder_path = '/content/drive/My Drive/foot/'\n",
        "files = os.listdir(folder_path)\n",
        "files.reverse()\n",
        "for filename in files:\n",
        "  if filename.endswith('.MP4') and not filename.endswith('-openpose.mp4'):\n",
        "    print(filename)\n",
        "    colab_video_path = folder_path + filename\n",
        "    print(colab_video_path)\n",
        "    colab_openpose_video_path = colab_video_path.replace('.mp4', '') + '-openpose.mp4'\n",
        "    print(colab_openpose_video_path)\n",
        "    if not exists(colab_openpose_video_path):\n",
        "      !cd openpose && ./build/examples/openpose/openpose.bin --hand --face --number_people_max 12 --video '{colab_video_path}' --display 0 --write_video_with_audio --write_video '{colab_openpose_video_path}' # --net_resolution \"-1x736\" --scale_number 4 --scale_gap 0.25\n"
      ],
      "execution_count": null,
      "outputs": []
    },
    {
      "cell_type": "code",
      "metadata": {
        "id": "2Z1bmRXeANAB"
      },
      "source": [
        "!pip install youtube-dl\n",
        "\n",
        "youtube_id = 'cd_awTiDezY'\n",
        "!youtube-dl -f mp4 -o '/content/drive/My Drive/%(id)s.mp4' {youtube_id}\n",
        "colab_video_path = '/content/drive/My Drive/' + youtube_id + '.mp4'\n",
        "colab_openpose_video_path = colab_video_path.replace('.mp4', '') + '-openpose.mp4'\n",
        "\n",
        "!cd openpose && ./build/examples/openpose/openpose.bin --number_people_max 12 --video '{colab_video_path}' --display 0 --write_video_with_audio --write_video '{colab_openpose_video_path}' # --net_resolution \"-1x736\" --scale_number 4 --scale_gap 0.25\n"
      ],
      "execution_count": null,
      "outputs": []
    },
    {
      "cell_type": "code",
      "metadata": {
        "id": "Y9FZupxuV4Cn"
      },
      "source": [
        "# video_folder = os.path.dirname(colab_video_path)\n",
        "# video_base_name = os.path.basename(colab_video_path)\n",
        "# print(video_base_name)\n",
        "import os\n",
        "from os.path import exists, join, basename, splitext\n",
        "colab_video_path = '/content/drive/My Drive/bachata.mp4'\n",
        "colab_openpose_video_path = colab_video_path.replace('.mp4', '') + '-openpose.mp4'\n",
        "\n",
        "!cd openpose && ./build/examples/openpose/openpose.bin --number_people_max 12 --video '{colab_video_path}' --display 0 --write_video_with_audio --write_video '{colab_openpose_video_path}' # --net_resolution \"-1x736\" --scale_number 4 --scale_gap 0.25\n"
      ],
      "execution_count": null,
      "outputs": []
    }
  ]
}