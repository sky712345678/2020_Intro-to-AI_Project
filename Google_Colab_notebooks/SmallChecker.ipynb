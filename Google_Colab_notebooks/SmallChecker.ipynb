{
  "nbformat": 4,
  "nbformat_minor": 0,
  "metadata": {
    "colab": {
      "name": "SmallChecker.ipynb",
      "provenance": [],
      "collapsed_sections": [],
      "authorship_tag": "ABX9TyP0h1AkDIxfttzq2x+s9m8x",
      "include_colab_link": true
    },
    "kernelspec": {
      "name": "python3",
      "display_name": "Python 3"
    }
  },
  "cells": [
    {
      "cell_type": "markdown",
      "metadata": {
        "id": "view-in-github",
        "colab_type": "text"
      },
      "source": [
        "<a href=\"https://colab.research.google.com/github/sky712345678/2020_Intro-to-AI_Project/blob/main/SmallChecker.ipynb\" target=\"_parent\"><img src=\"https://colab.research.google.com/assets/colab-badge.svg\" alt=\"Open In Colab\"/></a>"
      ]
    },
    {
      "cell_type": "code",
      "metadata": {
        "id": "dwe6ZvY3WS00"
      },
      "source": [
        "from google.colab import drive\r\n",
        "drive.mount('/content/drive')"
      ],
      "execution_count": null,
      "outputs": []
    },
    {
      "cell_type": "code",
      "metadata": {
        "id": "WIwYIIB7S01y"
      },
      "source": [
        "!mkdir drive/MyDrive/AIIntro/[processed]dream_picture/20200610-20200620-camera-3/output_yolov3-csresnext50-panet-spp-original-optimal_thresh-default/small_check/"
      ],
      "execution_count": null,
      "outputs": []
    },
    {
      "cell_type": "code",
      "metadata": {
        "id": "XczbUuMrTnx8"
      },
      "source": [
        "cd drive/MyDrive/AIIntro/[processed]dream_picture/20200610-20200620-camera-3/output_yolov3-csresnext50-panet-spp-original-optimal_thresh-default/small_check/"
      ],
      "execution_count": null,
      "outputs": []
    },
    {
      "cell_type": "code",
      "metadata": {
        "id": "UpFaZH6cTFm8"
      },
      "source": [
        "import gdown\r\n",
        "url = 'https://drive.google.com/uc?export=download&id=170CjxBy-5nkoCmVzkoSfOXcGxZ-ZqwET'\r\n",
        "output = 'checkResult.json'\r\n",
        "gdown.download(url, output, quiet=False) "
      ],
      "execution_count": null,
      "outputs": []
    },
    {
      "cell_type": "code",
      "metadata": {
        "id": "1mzJWkBYUVvl"
      },
      "source": [
        "cd .."
      ],
      "execution_count": null,
      "outputs": []
    },
    {
      "cell_type": "code",
      "metadata": {
        "id": "7oFzOoSpTgxh"
      },
      "source": [
        "!cp output/Camera-3_2020-06-12_09:45* small_check/\r\n",
        "!cp output/Camera-3_2020-06-12_10:* small_check/\r\n",
        "!cp output/Camera-3_2020-06-12_11:00* small_check/\r\n",
        "!cp output/Camera-3_2020-06-12_11:15* small_check/\r\n",
        "!cp output/Camera-3_2020-06-12_11:30* small_check/\r\n",
        "!cp output/Camera-3_2020-06-12_11:45* small_check/"
      ],
      "execution_count": null,
      "outputs": []
    },
    {
      "cell_type": "code",
      "metadata": {
        "id": "8LV1TpDGWKr_"
      },
      "source": [
        "import json\r\n",
        "import os\r\n",
        "\r\n",
        "f1 = open('output/result.json')\r\n",
        "\r\n",
        "# from Camera-3_2020-06-12_09:45:06-check to Camera-3_2020-06-12_11:45:14-check\r\n",
        "# person, backpack, handbag, laptop, book\r\n",
        "personAnswer = [0, 0, 1, 4, 0, 1, 0, 0, 0, 1, 0, 0, 1, 1, 2, 2, 0, 1, 6, 1, 4, 0, 1, 3, 1, 0, 1, 2, 1, 0, 2, 2, 1, 1, 4, 2, 0, 1, 2, 0]\r\n",
        "backpackAnswer = [1, 0, 1, 4, 0, 3, 2, 1, 0, 3, 2, 0, 0, 2, 3, 3, 1, 3, 4, 2, 1, 2, 3, 2, 0, 2, 3, 2, 0, 2, 1, 2, 0, 2, 3, 2, 0, 2, 1, 1]\r\n",
        "handbagAnswer = [0, 0, 0, 0, 0, 1, 0, 0, 0, 1, 0, 0, 0, 0, 0, 0, 0, 1, 0, 0, 0, 1, 0, 0, 0, 1, 0, 0, 0, 1, 0, 0, 0, 0, 0, 0, 0, 0, 0, 0]\r\n",
        "laptopAnswer = [0, 0, 0, 0, 0, 0, 0, 0, 0, 0, 0, 0, 1, 0, 0, 1, 1, 0, 1, 2, 1, 0, 1, 3, 1, 0, 1, 2, 1, 1, 1, 1, 1, 2, 0, 1, 1, 1, 0, 0]\r\n",
        "bookAnswer = [0, 1, 0, 2, 1, 0, 1, 0, 1, 0, 1, 0, 2, 1, 1, 0, 2, 1, 1, 0, 1, 1, 0, 1, 2, 1, 0, 1, 2, 1, 0, 0, 2, 1, 0, 1, 1, 1, 0, 0]\r\n",
        "\r\n",
        "personCount = [0]*len(personAnswer)\r\n",
        "backpackCount = [0]*len(personAnswer)\r\n",
        "handbagCount = [0]*len(personAnswer)\r\n",
        "laptopCount = [0]*len(personAnswer)\r\n",
        "bookCount = [0]*len(personAnswer)\r\n",
        "\r\n",
        "openedJson = json.load(f1)\r\n",
        "jsonIterateStart = 0\r\n",
        "\r\n",
        "checkResultJson = []\r\n",
        "\r\n",
        "for j in openedJson:\r\n",
        "  if (j['filename'].__contains__('Camera-3_2020-06-12_09:45:06-check')):\r\n",
        "    jsonIterateStart = int(j['frame_id']) - 1\r\n",
        "    break\r\n",
        "\r\n",
        "for i in range(jsonIterateStart, jsonIterateStart + len(personAnswer)):\r\n",
        "  objects = openedJson[i]['objects']\r\n",
        "  for o in objects:\r\n",
        "    if o['name'] == 'person' or o['name'] == 'Person':\r\n",
        "      personCount[i - jsonIterateStart] += 1\r\n",
        "    elif o['name'] == 'backpack' or o['name'] == 'Backpack':\r\n",
        "      backpackCount[i - jsonIterateStart] += 1\r\n",
        "    elif o['name'] == 'handbag' or o['name'] == 'Handbag':\r\n",
        "      handbagCount[i - jsonIterateStart] += 1\r\n",
        "    elif o['name'] == 'laptop' or o['name'] == 'Laptop':\r\n",
        "      laptopCount[i - jsonIterateStart] += 1\r\n",
        "    elif o['name'] == 'book' or o['name'] == 'Book':\r\n",
        "      bookCount[i - jsonIterateStart] += 1\r\n",
        "  dictionary = {\r\n",
        "    \"file_name\": openedJson[i]['filename'],\r\n",
        "    \"wrong_person_count\": abs(personCount[i - jsonIterateStart] - personAnswer[i - jsonIterateStart]),\r\n",
        "    \"wrong_backpack_count\": abs(backpackCount[i - jsonIterateStart] - backpackAnswer[i - jsonIterateStart]),\r\n",
        "    \"wrong_handbag_count\": abs(handbagCount[i - jsonIterateStart] - handbagAnswer[i - jsonIterateStart]),\r\n",
        "    \"wrong_laptop_count\": abs(laptopCount[i - jsonIterateStart] - laptopAnswer[i - jsonIterateStart]),\r\n",
        "    \"wrong_book_count\": abs(bookCount[i - jsonIterateStart] - bookAnswer[i - jsonIterateStart])\r\n",
        "  }\r\n",
        "  checkResultJson.append(dictionary)\r\n",
        "\r\n",
        "'''print('person   detected: ' + str(sum(personCount)) + ', ground_truth: ' + str(sum(personAnswer)) + ', wrong_count: ' + str(abs(sum(personAnswer)-sum(personCount))))\r\n",
        "print('backpack detected: ' + str(sum(backpackCount)) + ', ground_truth: ' + str(sum(backpackAnswer)) + ', wrong_count: ' + str(abs(sum(backpackAnswer)-sum(backpackCount))))\r\n",
        "print('handbag  detected: ' + str(sum(handbagCount)) + ', ground_truth: ' + str(sum(handbagAnswer)) + ', wrong_count: ' + str(abs(sum(handbagAnswer)-sum(handbagCount))))\r\n",
        "print('laptop   detected: ' + str(sum(laptopCount)) + ', ground_truth: ' + str(sum(laptopAnswer)) + ', wrong_count: ' + str(abs(sum(laptopAnswer)-sum(laptopCount))))\r\n",
        "print('book     detected: ' + str(sum(bookCount)) + ', ground_truth: ' + str(sum(bookAnswer)) + ', wrong_count: ' + str(abs(sum(bookAnswer)-sum(bookCount))))'''\r\n",
        "\r\n",
        "checkResultJsonDump = json.dumps(checkResultJson, indent=2)\r\n",
        "with open('small_check/checkResult.json', 'w') as outfile:\r\n",
        "  outfile.write(checkResultJsonDump)\r\n",
        "print('\\n\\ncheck result file saved successfully!')\r\n",
        "f1.close()\r\n",
        "\r\n",
        "f2 = open('../TotalSmallCheckResult.json')\r\n",
        "openedJson = json.load(f2)\r\n",
        "dictionary = {\r\n",
        "  \"path\": \"output_yolov3-csresnext50-panet-spp-original-optimal_thresh-default\",\r\n",
        "  \"person\": {\"detected\": sum(personCount), \"ground_truth\": sum(personAnswer), \"wrong_count\": abs(sum(personAnswer)-sum(personCount))},\r\n",
        "  \"backpack\": {\"detected\": sum(backpackCount), \"ground_truth\": sum(backpackAnswer), \"wrong_count\": abs(sum(backpackAnswer)-sum(backpackCount))},\r\n",
        "  \"handbag\": {\"detected\": sum(handbagCount), \"ground_truth\": sum(handbagAnswer), \"wrong_count\": abs(sum(handbagAnswer)-sum(handbagCount))},\r\n",
        "  \"laptop\": {\"detected\": sum(laptopCount), \"ground_truth\": sum(laptopAnswer), \"wrong_count\": abs(sum(laptopAnswer)-sum(laptopCount))},\r\n",
        "  \"book\": {\"detected\": sum(bookCount), \"ground_truth\": sum(bookAnswer), \"wrong_count\": abs(sum(bookAnswer)-sum(bookCount))}\r\n",
        "}\r\n",
        "openedJson.append(dictionary)\r\n",
        "checkResultJsonDump = json.dumps(openedJson, indent=4)\r\n",
        "with open('../TotalSmallCheckResult.json', 'w') as outfile:\r\n",
        "  outfile.write(checkResultJsonDump)\r\n",
        "print('\\n\\ncheck result file saved successfully!')\r\n",
        "f2.close()"
      ],
      "execution_count": null,
      "outputs": []
    },
    {
      "cell_type": "code",
      "metadata": {
        "id": "5IVWSJU8VqN2"
      },
      "source": [
        "cd"
      ],
      "execution_count": null,
      "outputs": []
    },
    {
      "cell_type": "code",
      "metadata": {
        "id": "EYW3Xi-yVXBu"
      },
      "source": [
        "cd ../content/"
      ],
      "execution_count": null,
      "outputs": []
    }
  ]
}